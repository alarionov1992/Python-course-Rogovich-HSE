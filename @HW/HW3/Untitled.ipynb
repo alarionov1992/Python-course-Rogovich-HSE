{
 "cells": [
  {
   "cell_type": "code",
   "execution_count": 5,
   "metadata": {},
   "outputs": [
    {
     "name": "stdout",
     "output_type": "stream",
     "text": [
      "mvbaranova_1@edu.hse.ru2442|pdbatraeva@edu.hse.ru2442|advelina@edu.hse.ru2442|alvystorop@edu.hse.ru2442|ssgrigoricheva@edu.hse.ru2442|megubanova@edu.hse.ru2442|mdanaasuren@edu.hse.ru2442|avzenkova@edu.hse.ru2442|vkzolotoverkhova@edu.hse.ru2442|amkaldanova@edu.hse.ru2442|avkegeles@edu.hse.ru2442|pakislitsyna@edu.hse.ru2442|avkopich@edu.hse.ru2442|aalyskina@edu.hse.ru2442|vsmarchenko@edu.hse.ru2442|eamaslova@edu.hse.ru2442|aminbaeva@edu.hse.ru2442|oopetrushina@edu.hse.ru2442|asprokhorov@edu.hse.ru2442|varipa@edu.hse.ru2442|avroppieva@edu.hse.ru2442|masenina@edu.hse.ru2442|aesultanalieva@edu.hse.ru2442|mrtayzhetinova@edu.hse.ru2442|eatikhomirova_1@edu.hse.ru2442|aitrushina@edu.hse.ru2442|astymkovan@edu.hse.ru2442|ayushavrina@edu.hse.ru2442|dfshakirova@edu.hse.ru2442|evshalonskaya@edu.hse.ru2442|oayan@edu.hse.ru2442|rogovich@gmail.com2442\n"
     ]
    }
   ],
   "source": [
    "x = 'mvbaranova_1@edu.hse.ru|pdbatraeva@edu.hse.ru|advelina@edu.hse.ru|alvystorop@edu.hse.ru|ssgrigoricheva@edu.hse.ru|megubanova@edu.hse.ru|mdanaasuren@edu.hse.ru|avzenkova@edu.hse.ru|vkzolotoverkhova@edu.hse.ru|amkaldanova@edu.hse.ru|avkegeles@edu.hse.ru|pakislitsyna@edu.hse.ru|avkopich@edu.hse.ru|aalyskina@edu.hse.ru|vsmarchenko@edu.hse.ru|eamaslova@edu.hse.ru|aminbaeva@edu.hse.ru|oopetrushina@edu.hse.ru|asprokhorov@edu.hse.ru|varipa@edu.hse.ru|avroppieva@edu.hse.ru|masenina@edu.hse.ru|aesultanalieva@edu.hse.ru|mrtayzhetinova@edu.hse.ru|eatikhomirova_1@edu.hse.ru|aitrushina@edu.hse.ru|astymkovan@edu.hse.ru|ayushavrina@edu.hse.ru|dfshakirova@edu.hse.ru|evshalonskaya@edu.hse.ru|oayan@edu.hse.ru|rogovich@gmail.com'\n",
    "print('|'.join(x+'2442' for x in x.split('|')))"
   ]
  },
  {
   "cell_type": "code",
   "execution_count": null,
   "metadata": {},
   "outputs": [],
   "source": []
  }
 ],
 "metadata": {
  "kernelspec": {
   "display_name": "Python 3",
   "language": "python",
   "name": "python3"
  },
  "language_info": {
   "codemirror_mode": {
    "name": "ipython",
    "version": 3
   },
   "file_extension": ".py",
   "mimetype": "text/x-python",
   "name": "python",
   "nbconvert_exporter": "python",
   "pygments_lexer": "ipython3",
   "version": "3.6.5"
  }
 },
 "nbformat": 4,
 "nbformat_minor": 2
}
