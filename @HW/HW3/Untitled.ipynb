{
 "cells": [
  {
   "cell_type": "code",
   "execution_count": 35,
   "metadata": {},
   "outputs": [
    {
     "ename": "TypeError",
     "evalue": "can't multiply sequence by non-int of type 'float'",
     "output_type": "error",
     "traceback": [
      "\u001b[1;31m---------------------------------------------------------------------------\u001b[0m",
      "\u001b[1;31mTypeError\u001b[0m                                 Traceback (most recent call last)",
      "\u001b[1;32m<ipython-input-35-94898d7a4c40>\u001b[0m in \u001b[0;36m<module>\u001b[1;34m()\u001b[0m\n\u001b[1;32m----> 1\u001b[1;33m \u001b[1;34m'5'\u001b[0m \u001b[1;33m*\u001b[0m \u001b[1;36m2.0\u001b[0m\u001b[1;33m\u001b[0m\u001b[0m\n\u001b[0m",
      "\u001b[1;31mTypeError\u001b[0m: can't multiply sequence by non-int of type 'float'"
     ]
    }
   ],
   "source": [
    "'5' * 2.0"
   ]
  },
  {
   "cell_type": "code",
   "execution_count": 36,
   "metadata": {},
   "outputs": [
    {
     "data": {
      "text/plain": [
       "57.2"
      ]
     },
     "execution_count": 36,
     "metadata": {},
     "output_type": "execute_result"
    }
   ],
   "source": [
    "57 + 0.2"
   ]
  },
  {
   "cell_type": "code",
   "execution_count": 37,
   "metadata": {},
   "outputs": [
    {
     "data": {
      "text/plain": [
       "'57.2'"
      ]
     },
     "execution_count": 37,
     "metadata": {},
     "output_type": "execute_result"
    }
   ],
   "source": [
    "'57' + '.2'"
   ]
  },
  {
   "cell_type": "code",
   "execution_count": 39,
   "metadata": {},
   "outputs": [
    {
     "data": {
      "text/plain": [
       "12.0"
      ]
     },
     "execution_count": 39,
     "metadata": {},
     "output_type": "execute_result"
    }
   ],
   "source": [
    "float(' 12')"
   ]
  },
  {
   "cell_type": "code",
   "execution_count": null,
   "metadata": {},
   "outputs": [],
   "source": []
  },
  {
   "cell_type": "markdown",
   "metadata": {},
   "source": [
    "В магазине \"Магнолия\" проходит акция - даются скидки на товары, название которых начинается на заданную букву.\n",
    "\n",
    "У Маши есть список покупок. Записей в Машином списке покупок может быть любое количество: друг от друга записи отеделены точкой с запятой, внутри одной записи через запятую Маша перечисляет название товара, цену и количество. Помогите ей посчитать, сколько рублей она сэкономит (общую сумму скидки).\n",
    "\n",
    "Формат ввода:  \n",
    "\n",
    "* Строка, которая содержит записи Машиного списка покупок. Маша использует только строчные буквы. \n",
    "* Каждая новая запись отделена точкой с запятой (;)\n",
    "* Внутри каждая запись имеет структуру 'название,цена,количество', элементы разделены запятой (,)\n",
    "* Цена может быть вещественным числом, количество всегда целое число.\n",
    "* С новой строки вводится буква, по которой сегодня определяется скидка 10%. \n",
    "\n",
    "Формат вывода:  \n",
    "\n",
    "* Строка вида \"Скидка: N руб.\"\n",
    "* N - целое число, ответ на задачу (отбросьте дробную часть с помощью функции int)\n",
    "\n",
    "Пример:  \n",
    "Ввод:  \n",
    "творог,99.90,2;молоко,59.90,1;какао,120.90,1;мандарины,125,1  \n",
    "м\n",
    "\n",
    "Вывод:  \n",
    "Скидка: 18 руб.\n",
    "\n"
   ]
  },
  {
   "cell_type": "code",
   "execution_count": 47,
   "metadata": {},
   "outputs": [
    {
     "name": "stdout",
     "output_type": "stream",
     "text": [
      "Скидка: 18 руб.\n"
     ]
    }
   ],
   "source": [
    "spisok = input().split(';')\n",
    "letter = input()\n",
    "\n",
    "discount = 0\n",
    "\n",
    "for item in spisok:\n",
    "    item_split = item.split(',')\n",
    "    if item_split[0][0] == letter:\n",
    "        discount += float(item_split[1])*int(item_split[2])*0.10\n",
    "        \n",
    "print(f'Скидка: {int(discount)} руб.')"
   ]
  },
  {
   "cell_type": "code",
   "execution_count": null,
   "metadata": {},
   "outputs": [],
   "source": []
  }
 ],
 "metadata": {
  "kernelspec": {
   "display_name": "Python 3",
   "language": "python",
   "name": "python3"
  },
  "language_info": {
   "codemirror_mode": {
    "name": "ipython",
    "version": 3
   },
   "file_extension": ".py",
   "mimetype": "text/x-python",
   "name": "python",
   "nbconvert_exporter": "python",
   "pygments_lexer": "ipython3",
   "version": "3.6.5"
  }
 },
 "nbformat": 4,
 "nbformat_minor": 2
}
